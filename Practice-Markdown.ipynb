{
 "cells": [
  {
   "cell_type": "markdown",
   "metadata": {},
   "source": [
    "## Practice Markdown"
   ]
  },
  {
   "cell_type": "code",
   "execution_count": null,
   "metadata": {},
   "outputs": [],
   "source": [
    "print(\"Hello world\")"
   ]
  },
  {
   "cell_type": "markdown",
   "metadata": {},
   "source": [
    "# This is a Markdown Title\n",
    "\n",
    "This is a markdown statement\n",
    "\n",
    "`This` is called out. So everytime I write `This` is will look different.\n",
    "\n",
    "## This is a smaller heading\n",
    "\n",
    "We can **bold** words too, and even *italicize*!\n",
    "\n",
    "We can add subscript too, like in the equation Total = b<sub>charged</sub> - b<sub>actual</sub>\n",
    "\n",
    "Some basic Git commands are\n",
    "```\n",
    "git status\n",
    "git add\n",
    "git commit\n",
    "```\n",
    "\n",
    "Another way to write these commands is with a list:\n",
    "* git status\n",
    "* git add\n",
    "* git commit\n",
    "\n",
    "### This is an even smaller heading\n",
    "\n",
    "With a link you can visit my GitHub [here](https://github.com/paynesc1)\n",
    "\n",
    "You can even add a list with checkboxes:\n",
    "\n",
    "- [ ] Yes\n",
    "- [ ] No\n",
    "- [ ] Maybe\n",
    "\n",
    "And mark it with an x:\n",
    "\n",
    "- [x] Yes\n",
    "- [ ] No\n",
    "- [ ] Maybe\n",
    "\n"
   ]
  },
  {
   "cell_type": "markdown",
   "metadata": {},
   "source": [
    "This notebook lets you experiment with producing repeatable technical documentation.  Use this notebook to do the following actions:\n",
    "\n",
    "* Create a code cell and print a Python Hello World statement:  `print(\"hello world\")`\n",
    "* Create a Markdown Cell and add a Title using `#` and then a statement using plain text.  You can looks at the source code for this cell to get an idea of how to use Markdown.\n",
    "* Take some ideas from the [Master Markdown Github Guide](https://guides.github.com/features/mastering-markdown/) and implement them here.\n",
    "* Download this notebook as a `.ipynb` file and check into a Github Project.  You can [see an example here](https://github.com/noahgift/duke-coursera-ccf-lab1/blob/main/Practice-Markdown.ipynb).\n",
    "* Open your notebook in Google Colab and save it into the same Github Project.  You can [see an example here](https://github.com/noahgift/duke-coursera-ccf-lab1/blob/main/Practice_Markdown_with_colab.ipynb).\n"
   ]
  },
  {
   "cell_type": "code",
   "execution_count": null,
   "metadata": {},
   "outputs": [],
   "source": []
  }
 ],
 "metadata": {
  "kernelspec": {
   "display_name": "Python 3",
   "language": "python",
   "name": "python3"
  },
  "language_info": {
   "codemirror_mode": {
    "name": "ipython",
    "version": 3
   },
   "file_extension": ".py",
   "mimetype": "text/x-python",
   "name": "python",
   "nbconvert_exporter": "python",
   "pygments_lexer": "ipython3",
   "version": "3.7.6"
  }
 },
 "nbformat": 4,
 "nbformat_minor": 4
}
